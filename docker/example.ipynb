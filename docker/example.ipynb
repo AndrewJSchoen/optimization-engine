{
 "cells": [
  {
   "cell_type": "code",
   "execution_count": null,
   "metadata": {},
   "outputs": [],
   "source": [
    "import opengen as og\n",
    "import casadi.casadi as cs\n",
    "\n",
    "# Build parametric optimizer\n",
    "# ------------------------------------\n",
    "u = cs.SX.sym(\"u\", 5)\n",
    "p = cs.SX.sym(\"p\", 2)\n",
    "phi = og.functions.rosenbrock(u, p)\n",
    "c = cs.vertcat(1.5 * u[0] - u[1],\n",
    "               cs.fmax(0.0, u[2] - u[3] + 0.1))\n",
    "bounds = og.constraints.Ball2(None, 1.5)\n",
    "problem = og.builder.Problem(u, p, phi) \\\n",
    "    .with_penalty_constraints(c)        \\\n",
    "    .with_constraints(bounds)\n",
    "build_config = og.config.BuildConfiguration()  \\\n",
    "    .with_build_directory(\"optimizers\") \\\n",
    "    .with_build_mode(\"debug\")                  \\\n",
    "    .with_tcp_interface_config()\n",
    "meta = og.config.OptimizerMeta()                   \\\n",
    "    .with_optimizer_name(\"my_optimizer\")\n",
    "solver_config = og.config.SolverConfiguration()    \\\n",
    "    .with_tolerance(1e-5)                          \\\n",
    "    .with_delta_tolerance(1e-4)                    \\\n",
    "    .with_initial_penalty(1e3)                     \\\n",
    "    .with_penalty_weight_update_factor(5)\n",
    "builder = og.builder.OpEnOptimizerBuilder(problem, meta,\n",
    "                                          build_config, solver_config)\n",
    "builder.build()"
   ]
  },
  {
   "cell_type": "code",
   "execution_count": null,
   "metadata": {},
   "outputs": [],
   "source": [
    "mng = og.tcp.OptimizerTcpManager('optimizers/my_optimizer')\n",
    "mng.start()\n",
    "print(mng.ping())\n",
    "mng.kill()"
   ]
  }
 ],
 "metadata": {
  "kernelspec": {
   "display_name": "Python 3",
   "language": "python",
   "name": "python3"
  },
  "language_info": {
   "codemirror_mode": {
    "name": "ipython",
    "version": 3
   },
   "file_extension": ".py",
   "mimetype": "text/x-python",
   "name": "python",
   "nbconvert_exporter": "python",
   "pygments_lexer": "ipython3",
   "version": "3.7.3"
  }
 },
 "nbformat": 4,
 "nbformat_minor": 2
}
